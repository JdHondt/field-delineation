{
 "cells": [
  {
   "cell_type": "markdown",
   "metadata": {},
   "source": [
    "# Adds cloud mask feature to downloaded eopatches\n",
    "\n",
    "This notebook applies the same post-processing as `s2cloudless` on the `CLP` mask downloaded from Sentienl-Hub. To avoid doing this, the `CLM` from Sentinel-Hub can be used directly (should lead to negligible differences)."
   ]
  },
  {
   "cell_type": "code",
   "execution_count": 1,
   "metadata": {},
   "outputs": [],
   "source": [
    "import os\n",
    "import time\n",
    "\n",
    "from eolearn.core import EOPatch, SaveTask, FeatureType, OverwritePermission, \\\n",
    "    EOTask, LoadTask, LinearWorkflow, EOExecutor\n",
    "\n",
    "import numpy as np\n",
    "\n",
    "from s2cloudless import S2PixelCloudDetector\n",
    "\n",
    "import geopandas as gpd"
   ]
  },
  {
   "cell_type": "code",
   "execution_count": 2,
   "metadata": {},
   "outputs": [],
   "source": [
    "class CloudMasking(EOTask):\n",
    "    def __init__(self, clm_feature=(FeatureType.MASK, 'CLM')):\n",
    "        self.clm_feature = next(self._parse_features(clm_feature)())\n",
    "        self.s2_cd = S2PixelCloudDetector(average_over=24)\n",
    "            \n",
    "    def execute(self, eopatch):\n",
    "        clc = self.s2_cd.get_mask_from_prob(eopatch.data['CLP'].squeeze()/255.)\n",
    "        eopatch[self.clm_feature] = clc[..., np.newaxis]\n",
    "        return eopatch"
   ]
  },
  {
   "cell_type": "code",
   "execution_count": 3,
   "metadata": {},
   "outputs": [],
   "source": [
    "load_task = LoadTask('s3://bucket-name/data/Lithuania/eopatches/2019/', lazy_loading=True)\n",
    "\n",
    "clm_feature = (FeatureType.MASK, 'CLM')\n",
    "clm_task = CloudMasking(clm_feature)\n",
    "\n",
    "save_task = SaveTask('s3://bucket-name/data/Lithuania/eopatches/2019/', \n",
    "                     features=[clm_feature], overwrite_permission=OverwritePermission.ADD_ONLY)"
   ]
  },
  {
   "cell_type": "code",
   "execution_count": 4,
   "metadata": {},
   "outputs": [],
   "source": [
    "workflow = LinearWorkflow((load_task, 'load'), (clm_task, 'cloud_masking'), (save_task, 'save'))"
   ]
  },
  {
   "cell_type": "code",
   "execution_count": 5,
   "metadata": {},
   "outputs": [],
   "source": [
    "eopatches = gpd.read_file('./eopatches.geojson')['eopatch_name'].values"
   ]
  },
  {
   "cell_type": "code",
   "execution_count": 6,
   "metadata": {},
   "outputs": [],
   "source": [
    "execution_args = [{load_task: { 'eopatch_folder': eopatch },\n",
    "                   save_task: { 'eopatch_folder': eopatch }\n",
    "                  } for eopatch in eopatches]"
   ]
  },
  {
   "cell_type": "code",
   "execution_count": 7,
   "metadata": {},
   "outputs": [
    {
     "data": {
      "text/plain": [
       "938"
      ]
     },
     "execution_count": 7,
     "metadata": {},
     "output_type": "execute_result"
    }
   ],
   "source": [
    "len(execution_args)"
   ]
  },
  {
   "cell_type": "code",
   "execution_count": 8,
   "metadata": {},
   "outputs": [
    {
     "data": {
      "text/plain": [
       "{<eolearn.core.core_tasks.LoadTask at 0x7f18a84a07b8>: {'eopatch_folder': 'eopatch-0000'},\n",
       " <eolearn.core.core_tasks.SaveTask at 0x7f18a84a0898>: {'eopatch_folder': 'eopatch-0000'}}"
      ]
     },
     "execution_count": 8,
     "metadata": {},
     "output_type": "execute_result"
    }
   ],
   "source": [
    "execution_args[0]"
   ]
  },
  {
   "cell_type": "code",
   "execution_count": 9,
   "metadata": {},
   "outputs": [],
   "source": [
    "executor = EOExecutor(workflow, execution_args, save_logs=True, logs_folder='.')"
   ]
  },
  {
   "cell_type": "code",
   "execution_count": 10,
   "metadata": {},
   "outputs": [
    {
     "data": {
      "application/vnd.jupyter.widget-view+json": {
       "model_id": "0fe5bd1ad6cb43cd97167449f51c7a96",
       "version_major": 2,
       "version_minor": 0
      },
      "text/plain": [
       "HBox(children=(FloatProgress(value=0.0, max=938.0), HTML(value='')))"
      ]
     },
     "metadata": {},
     "output_type": "display_data"
    },
    {
     "name": "stdout",
     "output_type": "stream",
     "text": [
      "\n"
     ]
    }
   ],
   "source": [
    "executor.run(workers=36)"
   ]
  },
  {
   "cell_type": "code",
   "execution_count": 13,
   "metadata": {},
   "outputs": [
    {
     "name": "stdout",
     "output_type": "stream",
     "text": [
      "Using matplotlib backend: agg\n",
      "Report was saved to location: ./eoexecution-report-2020_06_10-12_23_47/report.html\n"
     ]
    }
   ],
   "source": [
    "%matplotlib\n",
    "\n",
    "executor.make_report()\n",
    "\n",
    "print('Report was saved to location: {}'.format(executor.get_report_filename()))"
   ]
  },
  {
   "cell_type": "code",
   "execution_count": null,
   "metadata": {},
   "outputs": [],
   "source": []
  }
 ],
 "metadata": {
  "kernelspec": {
   "display_name": "Python 3",
   "language": "python",
   "name": "python3"
  },
  "language_info": {
   "codemirror_mode": {
    "name": "ipython",
    "version": 3
   },
   "file_extension": ".py",
   "mimetype": "text/x-python",
   "name": "python",
   "nbconvert_exporter": "python",
   "pygments_lexer": "ipython3",
   "version": "3.7.6"
  }
 },
 "nbformat": 4,
 "nbformat_minor": 4
}
