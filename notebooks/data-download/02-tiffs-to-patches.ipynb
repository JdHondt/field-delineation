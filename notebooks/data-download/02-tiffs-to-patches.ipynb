{
 "cells": [
  {
   "cell_type": "markdown",
   "metadata": {},
   "source": [
    "# Convert tiffs to eopatches\n",
    "\n",
    "The script converts tiffs downloaded using SentinelHUb's batch API to eopatches."
   ]
  },
  {
   "cell_type": "code",
   "execution_count": null,
   "metadata": {},
   "outputs": [],
   "source": [
    "from abc import abstractmethod\n",
    "import os\n",
    "import boto3\n",
    "import fs\n",
    "from fs_s3fs import S3FS\n",
    "\n",
    "from datetime import datetime, timedelta\n",
    "import dateutil\n",
    "import rasterio\n",
    "import pandas as pd\n",
    "import geopandas as gpd\n",
    "import numpy as np\n",
    "import matplotlib.pyplot as plt\n",
    "from tqdm import tqdm_notebook as tqdm\n",
    "\n",
    "from sentinelhub import CRS, BBox\n",
    "\n",
    "from eolearn.core import FeatureType, EOPatch, EOTask, EOWorkflow, SaveTask, OverwritePermission, EOExecutor"
   ]
  },
  {
   "cell_type": "code",
   "execution_count": 2,
   "metadata": {},
   "outputs": [],
   "source": [
    "os.environ[\"CURL_CA_BUNDLE\"] = \"/etc/ssl/certs/ca-certificates.crt\""
   ]
  },
  {
   "cell_type": "code",
   "execution_count": 3,
   "metadata": {},
   "outputs": [],
   "source": [
    "date_first_batch = datetime(2019, 3, 1)\n",
    "date_second_batch = datetime(2019, 6, 1)"
   ]
  },
  {
   "cell_type": "markdown",
   "metadata": {},
   "source": [
    "Set up S3FS for `bucket-name`"
   ]
  },
  {
   "cell_type": "code",
   "execution_count": 4,
   "metadata": {},
   "outputs": [],
   "source": [
    "filesystem = S3FS(\"bucket-name\", \n",
    "              aws_access_key_id=\"\",\n",
    "              aws_secret_access_key=\"\",\n",
    "              region=\"eu-central-1\")"
   ]
  },
  {
   "cell_type": "markdown",
   "metadata": {},
   "source": [
    "Load tile correspondence between batch processes"
   ]
  },
  {
   "cell_type": "code",
   "execution_count": 3,
   "metadata": {},
   "outputs": [
    {
     "data": {
      "text/html": [
       "<div>\n",
       "<style scoped>\n",
       "    .dataframe tbody tr th:only-of-type {\n",
       "        vertical-align: middle;\n",
       "    }\n",
       "\n",
       "    .dataframe tbody tr th {\n",
       "        vertical-align: top;\n",
       "    }\n",
       "\n",
       "    .dataframe thead th {\n",
       "        text-align: right;\n",
       "    }\n",
       "</style>\n",
       "<table border=\"1\" class=\"dataframe\">\n",
       "  <thead>\n",
       "    <tr style=\"text-align: right;\">\n",
       "      <th></th>\n",
       "      <th>id_left</th>\n",
       "      <th>requestId_left</th>\n",
       "      <th>geojson_left</th>\n",
       "      <th>status_left</th>\n",
       "      <th>cost_left</th>\n",
       "      <th>index_right</th>\n",
       "      <th>id_right</th>\n",
       "      <th>requestId_right</th>\n",
       "      <th>geojson_right</th>\n",
       "      <th>status_right</th>\n",
       "      <th>cost_right</th>\n",
       "      <th>eopatch_name</th>\n",
       "      <th>geometry</th>\n",
       "    </tr>\n",
       "  </thead>\n",
       "  <tbody>\n",
       "    <tr>\n",
       "      <th>0</th>\n",
       "      <td>1702790</td>\n",
       "      <td>964d90b7-41a7-4025-a392-140ae5236bf5</td>\n",
       "      <td>{'type': 'Polygon', 'crs': {'type': 'name', 'p...</td>\n",
       "      <td>PROCESSED</td>\n",
       "      <td>139.872230</td>\n",
       "      <td>0</td>\n",
       "      <td>1703758</td>\n",
       "      <td>ab0442c1-6c27-4bec-a798-8953ad955698</td>\n",
       "      <td>{'type': 'Polygon', 'crs': {'type': 'name', 'p...</td>\n",
       "      <td>PROCESSED</td>\n",
       "      <td>203.450516</td>\n",
       "      <td>eopatch-0000</td>\n",
       "      <td>POLYGON ((20.68052 55.85511, 20.67978 55.94496...</td>\n",
       "    </tr>\n",
       "    <tr>\n",
       "      <th>1</th>\n",
       "      <td>1702791</td>\n",
       "      <td>964d90b7-41a7-4025-a392-140ae5236bf5</td>\n",
       "      <td>{'type': 'Polygon', 'crs': {'type': 'name', 'p...</td>\n",
       "      <td>PROCESSED</td>\n",
       "      <td>133.514401</td>\n",
       "      <td>1</td>\n",
       "      <td>1703759</td>\n",
       "      <td>ab0442c1-6c27-4bec-a798-8953ad955698</td>\n",
       "      <td>{'type': 'Polygon', 'crs': {'type': 'name', 'p...</td>\n",
       "      <td>PROCESSED</td>\n",
       "      <td>193.913773</td>\n",
       "      <td>eopatch-0001</td>\n",
       "      <td>POLYGON ((20.68125 55.76526, 20.68052 55.85511...</td>\n",
       "    </tr>\n",
       "    <tr>\n",
       "      <th>2</th>\n",
       "      <td>1702792</td>\n",
       "      <td>964d90b7-41a7-4025-a392-140ae5236bf5</td>\n",
       "      <td>{'type': 'Polygon', 'crs': {'type': 'name', 'p...</td>\n",
       "      <td>PROCESSED</td>\n",
       "      <td>127.156572</td>\n",
       "      <td>2</td>\n",
       "      <td>1703760</td>\n",
       "      <td>ab0442c1-6c27-4bec-a798-8953ad955698</td>\n",
       "      <td>{'type': 'Polygon', 'crs': {'type': 'name', 'p...</td>\n",
       "      <td>PROCESSED</td>\n",
       "      <td>184.377030</td>\n",
       "      <td>eopatch-0002</td>\n",
       "      <td>POLYGON ((20.68198 55.67541, 20.68125 55.76526...</td>\n",
       "    </tr>\n",
       "    <tr>\n",
       "      <th>3</th>\n",
       "      <td>1702793</td>\n",
       "      <td>964d90b7-41a7-4025-a392-140ae5236bf5</td>\n",
       "      <td>{'type': 'Polygon', 'crs': {'type': 'name', 'p...</td>\n",
       "      <td>PROCESSED</td>\n",
       "      <td>127.156572</td>\n",
       "      <td>3</td>\n",
       "      <td>1703761</td>\n",
       "      <td>ab0442c1-6c27-4bec-a798-8953ad955698</td>\n",
       "      <td>{'type': 'Polygon', 'crs': {'type': 'name', 'p...</td>\n",
       "      <td>PROCESSED</td>\n",
       "      <td>184.377030</td>\n",
       "      <td>eopatch-0003</td>\n",
       "      <td>POLYGON ((20.68343 55.49570, 20.68271 55.58555...</td>\n",
       "    </tr>\n",
       "    <tr>\n",
       "      <th>4</th>\n",
       "      <td>1702794</td>\n",
       "      <td>964d90b7-41a7-4025-a392-140ae5236bf5</td>\n",
       "      <td>{'type': 'Polygon', 'crs': {'type': 'name', 'p...</td>\n",
       "      <td>PROCESSED</td>\n",
       "      <td>127.156572</td>\n",
       "      <td>4</td>\n",
       "      <td>1703762</td>\n",
       "      <td>ab0442c1-6c27-4bec-a798-8953ad955698</td>\n",
       "      <td>{'type': 'Polygon', 'crs': {'type': 'name', 'p...</td>\n",
       "      <td>PROCESSED</td>\n",
       "      <td>184.377030</td>\n",
       "      <td>eopatch-0004</td>\n",
       "      <td>POLYGON ((20.68415 55.40584, 20.68343 55.49570...</td>\n",
       "    </tr>\n",
       "  </tbody>\n",
       "</table>\n",
       "</div>"
      ],
      "text/plain": [
       "   id_left                        requestId_left  \\\n",
       "0  1702790  964d90b7-41a7-4025-a392-140ae5236bf5   \n",
       "1  1702791  964d90b7-41a7-4025-a392-140ae5236bf5   \n",
       "2  1702792  964d90b7-41a7-4025-a392-140ae5236bf5   \n",
       "3  1702793  964d90b7-41a7-4025-a392-140ae5236bf5   \n",
       "4  1702794  964d90b7-41a7-4025-a392-140ae5236bf5   \n",
       "\n",
       "                                        geojson_left status_left   cost_left  \\\n",
       "0  {'type': 'Polygon', 'crs': {'type': 'name', 'p...   PROCESSED  139.872230   \n",
       "1  {'type': 'Polygon', 'crs': {'type': 'name', 'p...   PROCESSED  133.514401   \n",
       "2  {'type': 'Polygon', 'crs': {'type': 'name', 'p...   PROCESSED  127.156572   \n",
       "3  {'type': 'Polygon', 'crs': {'type': 'name', 'p...   PROCESSED  127.156572   \n",
       "4  {'type': 'Polygon', 'crs': {'type': 'name', 'p...   PROCESSED  127.156572   \n",
       "\n",
       "   index_right  id_right                       requestId_right  \\\n",
       "0            0   1703758  ab0442c1-6c27-4bec-a798-8953ad955698   \n",
       "1            1   1703759  ab0442c1-6c27-4bec-a798-8953ad955698   \n",
       "2            2   1703760  ab0442c1-6c27-4bec-a798-8953ad955698   \n",
       "3            3   1703761  ab0442c1-6c27-4bec-a798-8953ad955698   \n",
       "4            4   1703762  ab0442c1-6c27-4bec-a798-8953ad955698   \n",
       "\n",
       "                                       geojson_right status_right  cost_right  \\\n",
       "0  {'type': 'Polygon', 'crs': {'type': 'name', 'p...    PROCESSED  203.450516   \n",
       "1  {'type': 'Polygon', 'crs': {'type': 'name', 'p...    PROCESSED  193.913773   \n",
       "2  {'type': 'Polygon', 'crs': {'type': 'name', 'p...    PROCESSED  184.377030   \n",
       "3  {'type': 'Polygon', 'crs': {'type': 'name', 'p...    PROCESSED  184.377030   \n",
       "4  {'type': 'Polygon', 'crs': {'type': 'name', 'p...    PROCESSED  184.377030   \n",
       "\n",
       "   eopatch_name                                           geometry  \n",
       "0  eopatch-0000  POLYGON ((20.68052 55.85511, 20.67978 55.94496...  \n",
       "1  eopatch-0001  POLYGON ((20.68125 55.76526, 20.68052 55.85511...  \n",
       "2  eopatch-0002  POLYGON ((20.68198 55.67541, 20.68125 55.76526...  \n",
       "3  eopatch-0003  POLYGON ((20.68343 55.49570, 20.68271 55.58555...  \n",
       "4  eopatch-0004  POLYGON ((20.68415 55.40584, 20.68343 55.49570...  "
      ]
     },
     "execution_count": 3,
     "metadata": {},
     "output_type": "execute_result"
    }
   ],
   "source": [
    "tile_correspondence = gpd.read_file('../../input-data/tiles-correspondence.geojson')\n",
    "tile_correspondence.head()"
   ]
  },
  {
   "cell_type": "code",
   "execution_count": 6,
   "metadata": {},
   "outputs": [],
   "source": [
    "if 'eopatch_name' not in tile_correspondence.columns:\n",
    "    tile_correspondence['eopatch_name'] = tile_correspondence['index_right'].apply(lambda rowid: f'eopatch-{rowid:04d}')\n",
    "    tile_correspondence.to_file('../../input-data/tiles-correspondence.geojson', driver='GeoJSON')"
   ]
  },
  {
   "cell_type": "code",
   "execution_count": 7,
   "metadata": {},
   "outputs": [
    {
     "data": {
      "text/html": [
       "<div>\n",
       "<style scoped>\n",
       "    .dataframe tbody tr th:only-of-type {\n",
       "        vertical-align: middle;\n",
       "    }\n",
       "\n",
       "    .dataframe tbody tr th {\n",
       "        vertical-align: top;\n",
       "    }\n",
       "\n",
       "    .dataframe thead th {\n",
       "        text-align: right;\n",
       "    }\n",
       "</style>\n",
       "<table border=\"1\" class=\"dataframe\">\n",
       "  <thead>\n",
       "    <tr style=\"text-align: right;\">\n",
       "      <th></th>\n",
       "      <th>id_left</th>\n",
       "      <th>requestId_left</th>\n",
       "      <th>geojson_left</th>\n",
       "      <th>status_left</th>\n",
       "      <th>cost_left</th>\n",
       "      <th>index_right</th>\n",
       "      <th>id_right</th>\n",
       "      <th>requestId_right</th>\n",
       "      <th>geojson_right</th>\n",
       "      <th>status_right</th>\n",
       "      <th>cost_right</th>\n",
       "      <th>eopatch_name</th>\n",
       "      <th>geometry</th>\n",
       "    </tr>\n",
       "  </thead>\n",
       "  <tbody>\n",
       "    <tr>\n",
       "      <th>0</th>\n",
       "      <td>1702790</td>\n",
       "      <td>964d90b7-41a7-4025-a392-140ae5236bf5</td>\n",
       "      <td>{'type': 'Polygon', 'crs': {'type': 'name', 'p...</td>\n",
       "      <td>PROCESSED</td>\n",
       "      <td>139.872230</td>\n",
       "      <td>0</td>\n",
       "      <td>1703758</td>\n",
       "      <td>ab0442c1-6c27-4bec-a798-8953ad955698</td>\n",
       "      <td>{'type': 'Polygon', 'crs': {'type': 'name', 'p...</td>\n",
       "      <td>PROCESSED</td>\n",
       "      <td>203.450516</td>\n",
       "      <td>eopatch-0000</td>\n",
       "      <td>POLYGON ((20.68051539589089 55.85510943895299,...</td>\n",
       "    </tr>\n",
       "    <tr>\n",
       "      <th>1</th>\n",
       "      <td>1702791</td>\n",
       "      <td>964d90b7-41a7-4025-a392-140ae5236bf5</td>\n",
       "      <td>{'type': 'Polygon', 'crs': {'type': 'name', 'p...</td>\n",
       "      <td>PROCESSED</td>\n",
       "      <td>133.514401</td>\n",
       "      <td>1</td>\n",
       "      <td>1703759</td>\n",
       "      <td>ab0442c1-6c27-4bec-a798-8953ad955698</td>\n",
       "      <td>{'type': 'Polygon', 'crs': {'type': 'name', 'p...</td>\n",
       "      <td>PROCESSED</td>\n",
       "      <td>193.913773</td>\n",
       "      <td>eopatch-0001</td>\n",
       "      <td>POLYGON ((20.68125049177392 55.76525859960496,...</td>\n",
       "    </tr>\n",
       "    <tr>\n",
       "      <th>2</th>\n",
       "      <td>1702792</td>\n",
       "      <td>964d90b7-41a7-4025-a392-140ae5236bf5</td>\n",
       "      <td>{'type': 'Polygon', 'crs': {'type': 'name', 'p...</td>\n",
       "      <td>PROCESSED</td>\n",
       "      <td>127.156572</td>\n",
       "      <td>2</td>\n",
       "      <td>1703760</td>\n",
       "      <td>ab0442c1-6c27-4bec-a798-8953ad955698</td>\n",
       "      <td>{'type': 'Polygon', 'crs': {'type': 'name', 'p...</td>\n",
       "      <td>PROCESSED</td>\n",
       "      <td>184.377030</td>\n",
       "      <td>eopatch-0002</td>\n",
       "      <td>POLYGON ((20.68198143407777 55.67540643163385,...</td>\n",
       "    </tr>\n",
       "    <tr>\n",
       "      <th>3</th>\n",
       "      <td>1702793</td>\n",
       "      <td>964d90b7-41a7-4025-a392-140ae5236bf5</td>\n",
       "      <td>{'type': 'Polygon', 'crs': {'type': 'name', 'p...</td>\n",
       "      <td>PROCESSED</td>\n",
       "      <td>127.156572</td>\n",
       "      <td>3</td>\n",
       "      <td>1703761</td>\n",
       "      <td>ab0442c1-6c27-4bec-a798-8953ad955698</td>\n",
       "      <td>{'type': 'Polygon', 'crs': {'type': 'name', 'p...</td>\n",
       "      <td>PROCESSED</td>\n",
       "      <td>184.377030</td>\n",
       "      <td>eopatch-0003</td>\n",
       "      <td>POLYGON ((20.68343098588699 55.49569810341387,...</td>\n",
       "    </tr>\n",
       "    <tr>\n",
       "      <th>4</th>\n",
       "      <td>1702794</td>\n",
       "      <td>964d90b7-41a7-4025-a392-140ae5236bf5</td>\n",
       "      <td>{'type': 'Polygon', 'crs': {'type': 'name', 'p...</td>\n",
       "      <td>PROCESSED</td>\n",
       "      <td>127.156572</td>\n",
       "      <td>4</td>\n",
       "      <td>1703762</td>\n",
       "      <td>ab0442c1-6c27-4bec-a798-8953ad955698</td>\n",
       "      <td>{'type': 'Polygon', 'crs': {'type': 'name', 'p...</td>\n",
       "      <td>PROCESSED</td>\n",
       "      <td>184.377030</td>\n",
       "      <td>eopatch-0004</td>\n",
       "      <td>POLYGON ((20.68414965852928 55.40584193999174,...</td>\n",
       "    </tr>\n",
       "  </tbody>\n",
       "</table>\n",
       "</div>"
      ],
      "text/plain": [
       "   id_left                        requestId_left  \\\n",
       "0  1702790  964d90b7-41a7-4025-a392-140ae5236bf5   \n",
       "1  1702791  964d90b7-41a7-4025-a392-140ae5236bf5   \n",
       "2  1702792  964d90b7-41a7-4025-a392-140ae5236bf5   \n",
       "3  1702793  964d90b7-41a7-4025-a392-140ae5236bf5   \n",
       "4  1702794  964d90b7-41a7-4025-a392-140ae5236bf5   \n",
       "\n",
       "                                        geojson_left status_left   cost_left  \\\n",
       "0  {'type': 'Polygon', 'crs': {'type': 'name', 'p...   PROCESSED  139.872230   \n",
       "1  {'type': 'Polygon', 'crs': {'type': 'name', 'p...   PROCESSED  133.514401   \n",
       "2  {'type': 'Polygon', 'crs': {'type': 'name', 'p...   PROCESSED  127.156572   \n",
       "3  {'type': 'Polygon', 'crs': {'type': 'name', 'p...   PROCESSED  127.156572   \n",
       "4  {'type': 'Polygon', 'crs': {'type': 'name', 'p...   PROCESSED  127.156572   \n",
       "\n",
       "   index_right  id_right                       requestId_right  \\\n",
       "0            0   1703758  ab0442c1-6c27-4bec-a798-8953ad955698   \n",
       "1            1   1703759  ab0442c1-6c27-4bec-a798-8953ad955698   \n",
       "2            2   1703760  ab0442c1-6c27-4bec-a798-8953ad955698   \n",
       "3            3   1703761  ab0442c1-6c27-4bec-a798-8953ad955698   \n",
       "4            4   1703762  ab0442c1-6c27-4bec-a798-8953ad955698   \n",
       "\n",
       "                                       geojson_right status_right  cost_right  \\\n",
       "0  {'type': 'Polygon', 'crs': {'type': 'name', 'p...    PROCESSED  203.450516   \n",
       "1  {'type': 'Polygon', 'crs': {'type': 'name', 'p...    PROCESSED  193.913773   \n",
       "2  {'type': 'Polygon', 'crs': {'type': 'name', 'p...    PROCESSED  184.377030   \n",
       "3  {'type': 'Polygon', 'crs': {'type': 'name', 'p...    PROCESSED  184.377030   \n",
       "4  {'type': 'Polygon', 'crs': {'type': 'name', 'p...    PROCESSED  184.377030   \n",
       "\n",
       "   eopatch_name                                           geometry  \n",
       "0  eopatch-0000  POLYGON ((20.68051539589089 55.85510943895299,...  \n",
       "1  eopatch-0001  POLYGON ((20.68125049177392 55.76525859960496,...  \n",
       "2  eopatch-0002  POLYGON ((20.68198143407777 55.67540643163385,...  \n",
       "3  eopatch-0003  POLYGON ((20.68343098588699 55.49569810341387,...  \n",
       "4  eopatch-0004  POLYGON ((20.68414965852928 55.40584193999174,...  "
      ]
     },
     "execution_count": 7,
     "metadata": {},
     "output_type": "execute_result"
    }
   ],
   "source": [
    "tile_correspondence.head()"
   ]
  },
  {
   "cell_type": "code",
   "execution_count": 8,
   "metadata": {},
   "outputs": [],
   "source": [
    "class BaseLocalIo(EOTask):\n",
    "    \"\"\" Base abstract class for local IO tasks\n",
    "    \"\"\"\n",
    "    def __init__(self, feature, filesystem, folder=None, *, image_dtype=None, no_data_value=0):\n",
    "        \"\"\"\n",
    "        :param feature: Feature which will be exported or imported\n",
    "        :type feature: (FeatureType, str)\n",
    "        :param folder: A directory containing image files or a path of an image file\n",
    "        :type folder: str\n",
    "        :param image_dtype: Type of data to be exported into tiff image or imported from tiff image\n",
    "        :type image_dtype: numpy.dtype\n",
    "        :param no_data_value: Value of undefined pixels\n",
    "        :type no_data_value: int or float\n",
    "        \"\"\"\n",
    "        self.feature = self._parse_features(feature)\n",
    "        self.filesystem = filesystem\n",
    "        self.folder = folder\n",
    "        self.image_dtype = image_dtype\n",
    "        self.no_data_value = no_data_value\n",
    "\n",
    "    def _get_file_path(self, filename, create_dir=False):\n",
    "        \"\"\" Builds a file path from values obtained at class initialization and in execute method.\n",
    "        If create_dir is set to True, non existing directories are automatically created.\n",
    "        \"\"\"\n",
    "        if self.folder is None:\n",
    "            if filename is None:\n",
    "                raise ValueError(\"At least one of parameters 'folder' and 'filename' has to be specified\")\n",
    "            path = filename\n",
    "        elif filename is None:\n",
    "            path = self.folder\n",
    "        else:\n",
    "            path = fs.path.combine(self.folder, filename)\n",
    "\n",
    "        # Create directory of path if it doesn't exist\n",
    "        if create_dir:\n",
    "            path_dir = fs.path.dirname(path)\n",
    "            if path_dir != '' and not filesystem.exists(path_dir):\n",
    "                filesystem.makedirs(path_dir, recreate=True)\n",
    "\n",
    "        return path\n",
    "\n",
    "    @abstractmethod\n",
    "    def execute(self, eopatch, **kwargs):\n",
    "        \"\"\" Execute of a base class is not implemented\n",
    "        \"\"\"\n",
    "        raise NotImplementedError\n",
    "        \n",
    "\n",
    "class ImportFromAWSTiff(BaseLocalIo):\n",
    "    \"\"\" Task for importing data from a Geo-Tiff file into an EOPatch\n",
    "    The task can take an existing EOPatch and read the part of Geo-Tiff image, which intersects with its bounding\n",
    "    box, into a new feature. But if no EOPatch is given it will create a new EOPatch, read entire Geo-Tiff image into a\n",
    "    feature and set a bounding box of the new EOPatch.\n",
    "    Note that if Geo-Tiff file is not completely spatially aligned with location of given EOPatch it will try to fit it\n",
    "    as best as possible. However it will not do any spatial resampling or interpolation on Geo-TIFF data.\n",
    "    \"\"\"\n",
    "    def __init__(self, feature, filesystem, folder=None, *, timestamp_size=None, **kwargs):\n",
    "        \"\"\"\n",
    "        :param feature: EOPatch feature into which data will be imported\n",
    "        :type feature: (FeatureType, str)\n",
    "        :param folder: A directory containing image files or a path of an image file\n",
    "        :type folder: str\n",
    "        :param timestamp_size: In case data will be imported into time-dependant feature this parameter can be used to\n",
    "            specify time dimension. If not specified, time dimension will be the same as size of FeatureType.TIMESTAMP\n",
    "            feature. If FeatureType.TIMESTAMP does not exist it will be set to 1.\n",
    "            When converting data into a feature channels of given tiff image should be in order\n",
    "            T(1)B(1), T(1)B(2), ..., T(1)B(N), T(2)B(1), T(2)B(2), ..., T(2)B(N), ..., ..., T(M)B(N)\n",
    "            where T and B are the time and band indices.\n",
    "        :type timestamp_size: int\n",
    "        :param image_dtype: Type of data of new feature imported from tiff image\n",
    "        :type image_dtype: numpy.dtype\n",
    "        :param no_data_value: Values where given Geo-Tiff image does not cover EOPatch\n",
    "        :type no_data_value: int or float\n",
    "        \"\"\"\n",
    "        super().__init__(feature, filesystem=filesystem, folder=folder, **kwargs)\n",
    "\n",
    "        self.timestamp_size = timestamp_size\n",
    "\n",
    "    @staticmethod\n",
    "    def _get_reading_window(width, height, data_bbox, eopatch_bbox):\n",
    "        \"\"\" Calculates a window in pixel coordinates for which data will be read from an image\n",
    "        \"\"\"\n",
    "        if eopatch_bbox.crs is not data_bbox.crs:\n",
    "            eopatch_bbox = eopatch_bbox.transform(data_bbox.crs)\n",
    "\n",
    "        # The following will be in the future moved to sentinelhub-py\n",
    "        data_ul_x, data_lr_y = data_bbox.lower_left\n",
    "        data_lr_x, data_ul_y = data_bbox.upper_right\n",
    "\n",
    "        res_x = abs(data_ul_x - data_lr_x) / width\n",
    "        res_y = abs(data_ul_y - data_lr_y) / height\n",
    "\n",
    "        ul_x, lr_y = eopatch_bbox.lower_left\n",
    "        lr_x, ul_y = eopatch_bbox.upper_right\n",
    "\n",
    "        # If these coordinates wouldn't be rounded here, rasterio.io.DatasetReader.read would round\n",
    "        # them in the same way\n",
    "        top = round((data_ul_y - ul_y) / res_y)\n",
    "        left = round((ul_x - data_ul_x) / res_x)\n",
    "        bottom = round((data_ul_y - lr_y) / res_y)\n",
    "        right = round((lr_x - data_ul_x) / res_x)\n",
    "\n",
    "        return (top, bottom), (left, right)\n",
    "\n",
    "    def execute(self, eopatch=None, *, filename=None):\n",
    "        \"\"\" Execute method which adds a new feature to the EOPatch\n",
    "        :param eopatch: input EOPatch or None if a new EOPatch should be created\n",
    "        :type eopatch: EOPatch or None\n",
    "        :param filename: filename of tiff file or None if entire path has already been specified in `folder` parameter\n",
    "            of task initialization.\n",
    "        :type filename: str or None\n",
    "        :return: New EOPatch with added raster layer\n",
    "        :rtype: EOPatch\n",
    "        \"\"\"\n",
    "        feature_type, feature_name = next(self.feature())\n",
    "        if eopatch is None:\n",
    "            eopatch = EOPatch()\n",
    "\n",
    "        session = boto3.Session(aws_access_key_id=self.filesystem.aws_access_key_id, \n",
    "                                aws_secret_access_key=self.filesystem.aws_secret_access_key,\n",
    "                                region_name=self.filesystem.region) \n",
    "        \n",
    "        with rasterio.Env(rasterio.session.AWSSession(session)) as env:\n",
    "            s3_url = f's3://{self.filesystem._bucket_name}/{self._get_file_path(filename)}'\n",
    "#             print(s3_url)\n",
    "            with rasterio.open(s3_url) as source:\n",
    "\n",
    "                data_bbox = BBox(source.bounds, CRS(source.crs.to_epsg()))\n",
    "                if eopatch.bbox is None:\n",
    "                    eopatch.bbox = data_bbox\n",
    "\n",
    "                reading_window = self._get_reading_window(source.width, source.height, data_bbox, eopatch.bbox)\n",
    "\n",
    "                data = source.read(window=reading_window, boundless=True, fill_value=self.no_data_value)\n",
    "\n",
    "        if self.image_dtype is not None:\n",
    "            data = data.astype(self.image_dtype)\n",
    "\n",
    "        if not feature_type.is_spatial():\n",
    "            data = data.flatten()\n",
    "\n",
    "        if feature_type.is_timeless():\n",
    "            data = np.moveaxis(data, 0, -1)\n",
    "        else:\n",
    "            channels = data.shape[0]\n",
    "\n",
    "            times = self.timestamp_size\n",
    "            if times is None:\n",
    "                times = len(eopatch.timestamp) if eopatch.timestamp else 1\n",
    "\n",
    "            if channels % times != 0:\n",
    "                raise ValueError('Cannot import as a time-dependant feature because the number of tiff image channels '\n",
    "                                 'is not divisible by the number of timestamps')\n",
    "\n",
    "            data = data.reshape((times, channels // times) + data.shape[1:])\n",
    "            data = np.moveaxis(data, 1, -1)\n",
    "\n",
    "        eopatch[feature_type][feature_name] = data\n",
    "\n",
    "        return eopatch\n",
    "\n",
    "    \n",
    "class RearrangeTime(EOTask):\n",
    "    \"\"\" rearrange channels as time and  \"\"\"\n",
    "    def __init__(self, reference_date, band_names, clp_name='CLP', is_data_name='dataMask', count_name='count'):\n",
    "        self.reference_date = reference_date\n",
    "        self.band_names = band_names\n",
    "        self.clp_name = clp_name\n",
    "        self.is_data_name = is_data_name\n",
    "        self.count_name = count_name\n",
    "        \n",
    "    def execute(self, eopatch):\n",
    "        h, w, c = eopatch.data_timeless[self.band_names[0]].shape\n",
    "        # assume all bands have same number of valid acquisitions\n",
    "        valid_doys = np.where(np.mean(eopatch.data_timeless[self.band_names[0]], axis=(0,1)))[0]\n",
    "        \n",
    "        band_list = [np.moveaxis(eopatch.data_timeless[band_name][..., valid_doys], -1, 0)[..., np.newaxis] \n",
    "                     for band_name in self.band_names]\n",
    "        \n",
    "        eopatch.data['BANDS'] = np.concatenate(band_list, axis=-1)\n",
    "        eopatch.data[self.clp_name] = np.moveaxis(eopatch.data_timeless[self.clp_name][..., valid_doys], -1, 0)[..., np.newaxis]\n",
    "        eopatch.mask['IS_DATA'] = np.moveaxis(eopatch.data_timeless[self.is_data_name][..., valid_doys], -1, 0)[..., np.newaxis]\n",
    "        eopatch.scalar_timeless['COUNT_TIMES'] = np.unique(eopatch.data_timeless[self.count_name])\n",
    "        \n",
    "        for feature_name in self.band_names+[self.clp_name, self.is_data_name, self.count_name]:\n",
    "            del eopatch.data_timeless[feature_name]\n",
    "\n",
    "        # add timestamps\n",
    "        eopatch.timestamp = [self.reference_date+timedelta(days=int(doy)) for doy in valid_doys]\n",
    "        \n",
    "#         assert eopatch.scalar_timeless['COUNT_TIMES'].size == 1\n",
    "#         assert eopatch.scalar_timeless['COUNT_TIMES'] == len(eopatch.timestamp)\n",
    "        \n",
    "        return eopatch\n",
    "    \n",
    "\n",
    "class TemporalConcatenationTask(EOTask):\n",
    "    \"\"\" Task to concatenate temporally a list of eopatches\n",
    "\n",
    "    Only the DATA and MASK features are concatenated. The task assumes all patches contain the same features\n",
    "    \"\"\"\n",
    "    def __init__(self, time_periods):\n",
    "        \"\"\" Time periods will be sorted, assuming the 'YEAR/QX' format.\n",
    "\n",
    "        :param time_periods: List of time periods to be concatenated, such as ['2018/Q4', '2019/Q1', '2019/Q2']\n",
    "        :type time_periods: list of str\n",
    "        :return: EOPatch with temporally concatenated arrays\n",
    "        \"\"\"\n",
    "        self.time_periods = sorted(time_periods)\n",
    "        self.time_indices = sorted(range(len(time_periods)), key=lambda k: time_periods[k])\n",
    "\n",
    "    def execute(self, *eopatches):\n",
    "        \"\"\" Sort patches temporally according to time_periods and concatenate starting from first \"\"\"\n",
    "        # sort list of eopatches according to provided time indices, e.g. eop_2019_q1, eop_2019_q2, eop_2019_q3\n",
    "        eopatches = [eopatches[tidx] for tidx in self.time_indices]\n",
    "        # get a list of timestamps of sorted eopatches. Timestamps are lists, so this is a list of lists\n",
    "        timestamp_list = [eop.timestamp for eop in eopatches]\n",
    "        # this mask finds dates in the next time period that are the same as the previous time period. The first\n",
    "        # loop iterationloop will return (2019_q1_datetimes, 2019_q2_datetimes) and find the dates in 2019_q2 that match\n",
    "        # the dates in 2019_q1. These will be ignored when concatenating 2019_q2\n",
    "        masks = [np.isin(time_post, list(set(time_post).difference(set(time_pre))))\n",
    "                 for time_pre, time_post in zip(timestamp_list[:-1], timestamp_list[1:])]\n",
    "        # create concatenated timestamp by removing duplicated dates in trailing time periods\n",
    "        timestamp = eopatches[0].timestamp + [tstamp for eop, mask in zip(eopatches[1:], masks)\n",
    "                                              for tstamp, to_keep in zip(eop.timestamp, mask) if to_keep]\n",
    "        # sort time periods in case the two sequences had a different time_difference\n",
    "        sorted_indices = sorted(range(len(timestamp)), key=lambda k: timestamp[k])\n",
    "\n",
    "        eop = EOPatch(bbox=eopatches[0].bbox, timestamp=sorted(timestamp))\n",
    "\n",
    "        # TODO: add SCALAR\n",
    "        # TODO: add check so that only features contained by all patches are concatenated\n",
    "        for feature_type in [FeatureType.DATA, FeatureType.MASK]:\n",
    "            for feature_name in eopatches[0][feature_type].keys():\n",
    "                feat = (feature_type, feature_name)\n",
    "                array = np.concatenate((eopatches[0][feat],\n",
    "                                        *[eop[feat][mask] for eop, mask in zip(eopatches[1:], masks)]), axis=0)\n",
    "                eop[feat] = array[sorted_indices]\n",
    "\n",
    "        eop.meta_info['time_interval'] = (eop.timestamp[0].date().isoformat(),\n",
    "                                          eop.timestamp[-1].date().isoformat())\n",
    "\n",
    "        eop.meta_info['info'] = 'Temporally concatenated from {}'.format(' '.join(self.time_periods))\n",
    "        \n",
    "        bboxes = [eopatch.bbox for eopatch in eopatches]\n",
    "        assert all([bboxes[0] == bbox for bbox in bboxes[1:]])\n",
    "\n",
    "        return eop\n"
   ]
  },
  {
   "cell_type": "markdown",
   "metadata": {},
   "source": [
    "Get IDs for first and second batch"
   ]
  },
  {
   "cell_type": "code",
   "execution_count": 9,
   "metadata": {},
   "outputs": [],
   "source": [
    "request_id_left = tile_correspondence.iloc[0].requestId_left\n",
    "request_id_right = tile_correspondence.iloc[0].requestId_right"
   ]
  },
  {
   "cell_type": "markdown",
   "metadata": {},
   "source": [
    "Set names of TIFFs to read in"
   ]
  },
  {
   "cell_type": "code",
   "execution_count": 10,
   "metadata": {},
   "outputs": [],
   "source": [
    "tiffs = ['B02.tif','B03.tif','B04.tif','B08.tif','CLP.tif','count.tif','dataMask.tif']"
   ]
  },
  {
   "cell_type": "markdown",
   "metadata": {},
   "source": [
    "Initialise tasks to import tiffs for first batch process"
   ]
  },
  {
   "cell_type": "code",
   "execution_count": 11,
   "metadata": {},
   "outputs": [],
   "source": [
    "left_tasks = [(ImportFromAWSTiff((FeatureType.DATA_TIMELESS, bands.split('.')[0]), \n",
    "                                   filesystem, \n",
    "                                   folder=f'{request_id_left}/'), f'left_import_{nband}') \n",
    "                for nband, bands in enumerate(tiffs)]\n",
    "left_tasks.append((RearrangeTime(reference_date=date_first_batch, \n",
    "                                 band_names=['B02', 'B03', 'B04', 'B08']), f'left_rearrange'))"
   ]
  },
  {
   "cell_type": "markdown",
   "metadata": {},
   "source": [
    "Initialise tasks to import tiffs for second batch process"
   ]
  },
  {
   "cell_type": "code",
   "execution_count": 12,
   "metadata": {},
   "outputs": [],
   "source": [
    "right_tasks = [(ImportFromAWSTiff((FeatureType.DATA_TIMELESS, bands.split('.')[0]), \n",
    "                                   filesystem, \n",
    "                                   folder=f'{request_id_right}/'), f'right_import_{nband}') \n",
    "                for nband, bands in enumerate(tiffs)]\n",
    "right_tasks.append((RearrangeTime(reference_date=date_second_batch, \n",
    "                                 band_names=['B02', 'B03', 'B04', 'B08']), f'right_rearrange'))"
   ]
  },
  {
   "cell_type": "markdown",
   "metadata": {},
   "source": [
    "Combine tasks into a single workflow, introducing dependencies to previous task"
   ]
  },
  {
   "cell_type": "code",
   "execution_count": 13,
   "metadata": {},
   "outputs": [],
   "source": [
    "task_list = []\n",
    "for tasks in [left_tasks, right_tasks]:\n",
    "    last_task = []\n",
    "    for task, task_name in tasks:\n",
    "        previous_task = [last_task] if last_task else []\n",
    "        task_list.append((task, previous_task, task_name))\n",
    "        last_task = task"
   ]
  },
  {
   "cell_type": "markdown",
   "metadata": {},
   "source": [
    "Append task for joining patches for first and second trimester"
   ]
  },
  {
   "cell_type": "code",
   "execution_count": 14,
   "metadata": {},
   "outputs": [],
   "source": [
    "concatenate_task = TemporalConcatenationTask(['2019/03', '2019/06'])\n",
    "task_list.append((concatenate_task, \n",
    "                  [left_tasks[-1][0], right_tasks[-1][0]], \n",
    "                  'concatenate'))"
   ]
  },
  {
   "cell_type": "markdown",
   "metadata": {},
   "source": [
    "Append task for saving resulting patch"
   ]
  },
  {
   "cell_type": "code",
   "execution_count": 15,
   "metadata": {},
   "outputs": [],
   "source": [
    "task_list.append((SaveTask(path='data/Lithuania/eopatches/2019/', \n",
    "                           filesystem=filesystem, \n",
    "                           overwrite_permission=OverwritePermission.OVERWRITE_PATCH), \n",
    "                  [concatenate_task], \n",
    "                  'Save EOPatch'))"
   ]
  },
  {
   "cell_type": "code",
   "execution_count": 17,
   "metadata": {},
   "outputs": [],
   "source": [
    "workflow = EOWorkflow(task_list)"
   ]
  },
  {
   "cell_type": "markdown",
   "metadata": {},
   "source": [
    "Build list of inputs for execution"
   ]
  },
  {
   "cell_type": "code",
   "execution_count": 18,
   "metadata": {},
   "outputs": [
    {
     "data": {
      "application/vnd.jupyter.widget-view+json": {
       "model_id": "78adaeaab53e425483ea36f03473b59a",
       "version_major": 2,
       "version_minor": 0
      },
      "text/plain": [
       "HBox(children=(IntProgress(value=0, max=938), HTML(value='')))"
      ]
     },
     "metadata": {},
     "output_type": "display_data"
    },
    {
     "name": "stdout",
     "output_type": "stream",
     "text": [
      "\n"
     ]
    }
   ],
   "source": [
    "exec_args = []\n",
    "tasks = workflow.get_tasks()\n",
    "\n",
    "for nrow, row, in tqdm(tile_correspondence.iterrows(), total=len(tile_correspondence)):\n",
    "\n",
    "    single_exec_dict = {}\n",
    "\n",
    "    for task_name, task in tasks.items():\n",
    "        if isinstance(task, ImportFromAWSTiff):\n",
    "            band_idx = int(task_name.split('_')[-1])\n",
    "            tile_id = row.id_left if 'left' in task_name else row.id_right\n",
    "            single_exec_dict[task] = dict(filename=f'{tile_id}/{tiffs[band_idx]}')\n",
    "\n",
    "        if isinstance(task, SaveTask):\n",
    "            single_exec_dict[task] = dict(eopatch_folder=f'{row.eopatch_name}')\n",
    "\n",
    "    exec_args.append(single_exec_dict)\n"
   ]
  },
  {
   "cell_type": "code",
   "execution_count": 19,
   "metadata": {},
   "outputs": [
    {
     "data": {
      "text/plain": [
       "id_left                                                      1703381\n",
       "requestId_left                  964d90b7-41a7-4025-a392-140ae5236bf5\n",
       "geojson_left       {'type': 'Polygon', 'crs': {'type': 'name', 'p...\n",
       "status_left                                                PROCESSED\n",
       "cost_left                                                    139.872\n",
       "index_right                                                      591\n",
       "id_right                                                     1704349\n",
       "requestId_right                 ab0442c1-6c27-4bec-a798-8953ad955698\n",
       "geojson_right      {'type': 'Polygon', 'crs': {'type': 'name', 'p...\n",
       "status_right                                               PROCESSED\n",
       "cost_right                                                   165.304\n",
       "eopatch_name                                            eopatch-0591\n",
       "geometry           POLYGON ((24.30466953699019 55.55632381177488,...\n",
       "Name: 591, dtype: object"
      ]
     },
     "execution_count": 19,
     "metadata": {},
     "output_type": "execute_result"
    }
   ],
   "source": [
    "tile_correspondence.iloc[591]"
   ]
  },
  {
   "cell_type": "markdown",
   "metadata": {},
   "source": [
    "Test workflow on a single eopatch"
   ]
  },
  {
   "cell_type": "code",
   "execution_count": 21,
   "metadata": {},
   "outputs": [],
   "source": [
    "eop = workflow.execute(exec_args[591])"
   ]
  },
  {
   "cell_type": "code",
   "execution_count": 22,
   "metadata": {},
   "outputs": [],
   "source": [
    "eop = list(eop.values())[0]"
   ]
  },
  {
   "cell_type": "code",
   "execution_count": 23,
   "metadata": {},
   "outputs": [
    {
     "data": {
      "text/plain": [
       "EOPatch(\n",
       "  data: {\n",
       "    BANDS: numpy.ndarray(shape=(25, 1000, 1000, 4), dtype=uint16)\n",
       "    CLP: numpy.ndarray(shape=(25, 1000, 1000, 1), dtype=uint8)\n",
       "  }\n",
       "  mask: {\n",
       "    IS_DATA: numpy.ndarray(shape=(25, 1000, 1000, 1), dtype=uint8)\n",
       "  }\n",
       "  scalar: {}\n",
       "  label: {}\n",
       "  vector: {}\n",
       "  data_timeless: {\n",
       "    count: numpy.ndarray(shape=(1000, 1000, 1), dtype=uint16)\n",
       "  }\n",
       "  mask_timeless: {}\n",
       "  scalar_timeless: {}\n",
       "  label_timeless: {}\n",
       "  vector_timeless: {}\n",
       "  meta_info: {}\n",
       "  bbox: BBox(((330000.0, 6160000.0), (340000.0, 6170000.0)), crs=CRS('32635'))\n",
       "  timestamp: [datetime.datetime(2019, 3, 6, 0, 0), ..., datetime.datetime(2019, 5, 30, 0, 0)], length=25\n",
       ")"
      ]
     },
     "execution_count": 23,
     "metadata": {},
     "output_type": "execute_result"
    }
   ],
   "source": [
    "eop"
   ]
  },
  {
   "cell_type": "code",
   "execution_count": 24,
   "metadata": {},
   "outputs": [
    {
     "data": {
      "text/plain": [
       "array([19, 25], dtype=uint16)"
      ]
     },
     "execution_count": 24,
     "metadata": {},
     "output_type": "execute_result"
    }
   ],
   "source": [
    "eop.scalar_timeless['COUNT_TIMES']"
   ]
  },
  {
   "cell_type": "code",
   "execution_count": 27,
   "metadata": {},
   "outputs": [
    {
     "data": {
      "text/plain": [
       "[datetime.datetime(2019, 3, 6, 0, 0),\n",
       " datetime.datetime(2019, 3, 8, 0, 0),\n",
       " datetime.datetime(2019, 3, 18, 0, 0),\n",
       " datetime.datetime(2019, 3, 23, 0, 0),\n",
       " datetime.datetime(2019, 3, 31, 0, 0),\n",
       " datetime.datetime(2019, 4, 2, 0, 0),\n",
       " datetime.datetime(2019, 4, 5, 0, 0),\n",
       " datetime.datetime(2019, 4, 7, 0, 0),\n",
       " datetime.datetime(2019, 4, 12, 0, 0),\n",
       " datetime.datetime(2019, 4, 15, 0, 0),\n",
       " datetime.datetime(2019, 4, 17, 0, 0),\n",
       " datetime.datetime(2019, 4, 20, 0, 0),\n",
       " datetime.datetime(2019, 4, 22, 0, 0),\n",
       " datetime.datetime(2019, 4, 25, 0, 0),\n",
       " datetime.datetime(2019, 4, 27, 0, 0),\n",
       " datetime.datetime(2019, 4, 30, 0, 0),\n",
       " datetime.datetime(2019, 5, 7, 0, 0),\n",
       " datetime.datetime(2019, 5, 10, 0, 0),\n",
       " datetime.datetime(2019, 5, 12, 0, 0),\n",
       " datetime.datetime(2019, 5, 15, 0, 0),\n",
       " datetime.datetime(2019, 5, 17, 0, 0),\n",
       " datetime.datetime(2019, 5, 20, 0, 0),\n",
       " datetime.datetime(2019, 5, 22, 0, 0),\n",
       " datetime.datetime(2019, 5, 25, 0, 0),\n",
       " datetime.datetime(2019, 5, 30, 0, 0)]"
      ]
     },
     "execution_count": 27,
     "metadata": {},
     "output_type": "execute_result"
    }
   ],
   "source": [
    "eop.timestamp"
   ]
  },
  {
   "cell_type": "code",
   "execution_count": 26,
   "metadata": {},
   "outputs": [
    {
     "name": "stderr",
     "output_type": "stream",
     "text": [
      "Clipping input data to the valid range for imshow with RGB data ([0..1] for floats or [0..255] for integers).\n"
     ]
    },
    {
     "data": {
      "text/plain": [
       "<matplotlib.image.AxesImage at 0x7fd4437126d8>"
      ]
     },
     "execution_count": 26,
     "metadata": {},
     "output_type": "execute_result"
    },
    {
     "data": {
      "image/png": "[encoded data removed]",
      "text/plain": [
       "<Figure size 1080x1080 with 1 Axes>"
      ]
     },
     "metadata": {
      "needs_background": "light"
     },
     "output_type": "display_data"
    }
   ],
   "source": [
    "tidx = 4\n",
    "\n",
    "plt.figure(figsize=(15,15))\n",
    "plt.imshow(2.5*eop.data['BANDS'][tidx][..., [2,1,0]]/10000)\n",
    "# plt.imshow(eop.data['CLP'][tidx][..., 0]/255, vmin=0, vmax=1, alpha=.4)"
   ]
  },
  {
   "cell_type": "markdown",
   "metadata": {},
   "source": [
    "Run on all eopatches in parallel"
   ]
  },
  {
   "cell_type": "code",
   "execution_count": null,
   "metadata": {},
   "outputs": [],
   "source": [
    "MAX_WORKERS = 16\n",
    "\n",
    "executor = EOExecutor(workflow, exec_args, save_logs=True, logs_folder='.')\n",
    "\n",
    "executor.run(workers=MAX_WORKERS)"
   ]
  },
  {
   "cell_type": "code",
   "execution_count": null,
   "metadata": {},
   "outputs": [],
   "source": [
    "%matplotlib\n",
    "\n",
    "executor.make_report()\n",
    "\n",
    "print('Report was saved to location: {}'.format(executor.get_report_filename()))"
   ]
  }
 ],
 "metadata": {
  "kernelspec": {
   "display_name": "Python 3",
   "language": "python",
   "name": "python3"
  },
  "language_info": {
   "codemirror_mode": {
    "name": "ipython",
    "version": 3
   },
   "file_extension": ".py",
   "mimetype": "text/x-python",
   "name": "python",
   "nbconvert_exporter": "python",
   "pygments_lexer": "ipython3",
   "version": "3.8.3"
  }
 },
 "nbformat": 4,
 "nbformat_minor": 4
}
