{
 "cells": [
  {
   "cell_type": "markdown",
   "source": [
    "# Sample Patchlets from EOPatches\n",
    "\n",
    "```\n",
    "#\n",
    "# Copyright (c) Sinergise, 2019 -- 2021.\n",
    "#\n",
    "# This file belongs to subproject \"field-delineation\" of project NIVA (www.niva4cap.eu).\n",
    "# All rights reserved.\n",
    "#\n",
    "# This source code is licensed under the MIT license found in the LICENSE\n",
    "# file in the root directory of this source tree.\n",
    "#\n",
    "```\n",
    "\n",
    "This notebook shows how to sample image chips out of the larger `EOPatches`. A maximum number of chips is sampled randomly from the `EOPatch`, depending on the fraction of reference `EXTENT` pixels. A buffer where patchlets are not sampled from can also be specified. Image chips containing only valid image data and a cloud coverage lower than a threshold are sampled.\n",
    "\n",
    "With the same interface, positive (i.e. where reference labels are present) and negative (i.e. where reference labels are not present) patchlets can be sampled. Negative samples should be added when the reference ground-truth masks are of high quality, where a lack of reference data means that there is actually no target labels in the area. Often this is not the case, and is preferred to use positive samples only even though this leads to larger number of false positives."
   ],
   "metadata": {}
  },
  {
   "cell_type": "code",
   "execution_count": 1,
   "source": [
    "%load_ext autoreload\n",
    "%autoreload 2"
   ],
   "outputs": [],
   "metadata": {}
  },
  {
   "cell_type": "code",
   "execution_count": 2,
   "source": [
    "from functools import partial\n",
    "from concurrent.futures import ProcessPoolExecutor\n",
    "\n",
    "from tqdm.auto import tqdm\n",
    "\n",
    "from fd.sampling import sample_patch, SamplingConfig, prepare_eopatches_paths\n",
    "from fd.utils import multiprocess"
   ],
   "outputs": [],
   "metadata": {}
  },
  {
   "cell_type": "markdown",
   "source": [
    "# Define configs"
   ],
   "metadata": {}
  },
  {
   "cell_type": "code",
   "execution_count": 3,
   "source": [
    "positive_examples_config = SamplingConfig(\n",
    "    bucket_name='',\n",
    "    aws_access_key_id='',\n",
    "    aws_secret_access_key='',\n",
    "    aws_region='',\n",
    "    eopatches_location='data/Castilla/2020-04/eopatches',\n",
    "    output_path='data/Castilla/2020-04/patchlets',\n",
    "    sample_positive=True,\n",
    "    mask_feature_name='EXTENT',\n",
    "    buffer=50,\n",
    "    patch_size=256,\n",
    "    num_samples=10,\n",
    "    max_retries=10,\n",
    "    fraction_valid=0.4,\n",
    "    sampled_feature_name='BANDS',\n",
    "    cloud_coverage=0.05)"
   ],
   "outputs": [],
   "metadata": {}
  },
  {
   "cell_type": "code",
   "execution_count": 4,
   "source": [
    "negatives_examples_config = SamplingConfig(\n",
    "    bucket_name='bucket-name',\n",
    "    aws_access_key_id='',\n",
    "    aws_secret_access_key='',\n",
    "    aws_region='eu-central-1',\n",
    "    eopatches_location='data/Castilla/2020/eopatches/with-overlap/',\n",
    "    output_path='data/Castilla/2020-04/patchlets-neg',\n",
    "    sample_positive=False, \n",
    "    grid_definition_file='../../input-data/cyl-grid-definition.gpkg',\n",
    "    area_geometry_file='../../input-data/cyl-province-border.geojson', \n",
    "    fraction_valid=0.1,\n",
    "    mask_feature_name='EXTENT',\n",
    "    patch_size=256,\n",
    "    num_samples=10,\n",
    "    max_retries=10,\n",
    "    sampled_feature_name='BANDS',\n",
    "    cloud_coverage=0.05)"
   ],
   "outputs": [],
   "metadata": {}
  },
  {
   "cell_type": "markdown",
   "source": [
    "# Positive examples sampling"
   ],
   "metadata": {}
  },
  {
   "cell_type": "code",
   "execution_count": 5,
   "source": [
    "eopatches_paths = prepare_eopatches_paths(positive_examples_config)"
   ],
   "outputs": [],
   "metadata": {}
  },
  {
   "cell_type": "code",
   "execution_count": 6,
   "source": [
    "len(eopatches_paths)"
   ],
   "outputs": [
    {
     "output_type": "execute_result",
     "data": {
      "text/plain": [
       "1083"
      ]
     },
     "metadata": {},
     "execution_count": 6
    }
   ],
   "metadata": {}
  },
  {
   "cell_type": "code",
   "execution_count": 7,
   "source": [
    "process_fn = partial(sample_patch, sampling_config=positive_examples_config)"
   ],
   "outputs": [],
   "metadata": {}
  },
  {
   "cell_type": "code",
   "execution_count": null,
   "source": [
    "_ = multiprocess(process_fun=process_fn, arguments=eopatches_paths, max_workers=24)"
   ],
   "outputs": [],
   "metadata": {}
  },
  {
   "cell_type": "markdown",
   "source": [
    "# Negative examples sampling"
   ],
   "metadata": {}
  },
  {
   "cell_type": "markdown",
   "source": [
    "In this case we don't consider negative samples, as the reference data is quite noisy. Uncomment and run the following if you want to add negative samples."
   ],
   "metadata": {}
  },
  {
   "cell_type": "code",
   "execution_count": null,
   "source": [
    "# eopatches_paths_neg = prepare_eopatches_paths(negatives_examples_config)"
   ],
   "outputs": [],
   "metadata": {}
  },
  {
   "cell_type": "code",
   "execution_count": null,
   "source": [
    "# multiprocess(eopatches_paths_neg, negatives_examples_config, max_workers=4)"
   ],
   "outputs": [],
   "metadata": {}
  }
 ],
 "metadata": {
  "kernelspec": {
   "display_name": "Python 3",
   "language": "python",
   "name": "python3"
  },
  "language_info": {
   "codemirror_mode": {
    "name": "ipython",
    "version": 3
   },
   "file_extension": ".py",
   "mimetype": "text/x-python",
   "name": "python",
   "nbconvert_exporter": "python",
   "pygments_lexer": "ipython3",
   "version": "3.6.9"
  }
 },
 "nbformat": 4,
 "nbformat_minor": 2
}