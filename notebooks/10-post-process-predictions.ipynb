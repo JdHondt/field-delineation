{
 "cells": [
  {
   "cell_type": "markdown",
   "source": [
    "# Post-process predictions for vectorisation\n",
    "\n",
    "```\n",
    "#\n",
    "# Copyright (c) Sinergise, 2019 -- 2021.\n",
    "#\n",
    "# This file belongs to subproject \"field-delineation\" of project NIVA (www.niva4cap.eu).\n",
    "# All rights reserved.\n",
    "#\n",
    "# This source code is licensed under the MIT license found in the LICENSE\n",
    "# file in the root directory of this source tree.\n",
    "#\n",
    "```\n",
    "\n",
    "This notebook shows how to post-process the predicted extent and boundary pseudo-probabilities to generate a single raster map that will be used for vectorisation.\n",
    "\n",
    "The following steps are executed:\n",
    "\n",
    " * merge predictions over a time interval using percentile statistics\n",
    " * join the extent and boundary predictions derived from previous step\n",
    " * iteratively smooth and upscale the joined prediction for a visually smoother output\n",
    " * export the resulting map as .tif to be used for vectorisation"
   ],
   "metadata": {}
  },
  {
   "cell_type": "code",
   "execution_count": 1,
   "source": [
    "%load_ext autoreload\n",
    "%autoreload 2"
   ],
   "outputs": [],
   "metadata": {}
  },
  {
   "cell_type": "code",
   "execution_count": 2,
   "source": [
    "import warnings\n",
    "warnings.simplefilter(action='ignore', category=UserWarning)"
   ],
   "outputs": [],
   "metadata": {}
  },
  {
   "cell_type": "code",
   "execution_count": 3,
   "source": [
    "from pathlib import Path\n",
    "\n",
    "import geopandas as gpd\n",
    "\n",
    "from eolearn.core import FeatureType, EOExecutor\n",
    "\n",
    "from fd.post_processing import (\n",
    "    get_post_processing_workflow, \n",
    "    get_exec_args, \n",
    "    PostProcessConfig)"
   ],
   "outputs": [],
   "metadata": {}
  },
  {
   "cell_type": "markdown",
   "source": [
    "## Paths and config set-up"
   ],
   "metadata": {}
  },
  {
   "cell_type": "code",
   "execution_count": 4,
   "source": [
    "INPUT_DATA_DIR = Path('../../input-data/')"
   ],
   "outputs": [],
   "metadata": {}
  },
  {
   "cell_type": "code",
   "execution_count": 5,
   "source": [
    "model_version = 'folds_avg_10e'\n",
    "\n",
    "post_process_config = PostProcessConfig(\n",
    "    bucket_name='',\n",
    "    aws_access_key_id='',\n",
    "    aws_secret_access_key='',\n",
    "    aws_region='',\n",
    "    time_intervals=dict(APRIL=(12, 21)), # include last weeks of March and firsts of May\n",
    "    eopatches_folder='data/Castilla/2020-04/eopatches',\n",
    "    tiffs_folder='results/Castilla/2020-04/raster',\n",
    "    feature_extent=(FeatureType.DATA, f'EXTENT_PREDICTED_{model_version}'),\n",
    "    feature_boundary=(FeatureType.DATA, f'BOUNDARY_PREDICTED_{model_version}'),\n",
    "    model_version=model_version,\n",
    "    max_cloud_coverage=0.10 # increased from 0.05 since there aren't good frames available\n",
    ")"
   ],
   "outputs": [],
   "metadata": {}
  },
  {
   "cell_type": "markdown",
   "source": [
    "#### List of patches"
   ],
   "metadata": {}
  },
  {
   "cell_type": "code",
   "execution_count": 6,
   "source": [
    "grid_definition = gpd.read_file(INPUT_DATA_DIR/'cyl-grid-definition.gpkg')\n",
    "grid_definition.head()"
   ],
   "outputs": [
    {
     "output_type": "execute_result",
     "data": {
      "text/html": [
       "<div>\n",
       "<style scoped>\n",
       "    .dataframe tbody tr th:only-of-type {\n",
       "        vertical-align: middle;\n",
       "    }\n",
       "\n",
       "    .dataframe tbody tr th {\n",
       "        vertical-align: top;\n",
       "    }\n",
       "\n",
       "    .dataframe thead th {\n",
       "        text-align: right;\n",
       "    }\n",
       "</style>\n",
       "<table border=\"1\" class=\"dataframe\">\n",
       "  <thead>\n",
       "    <tr style=\"text-align: right;\">\n",
       "      <th></th>\n",
       "      <th>id</th>\n",
       "      <th>name</th>\n",
       "      <th>geometry</th>\n",
       "    </tr>\n",
       "  </thead>\n",
       "  <tbody>\n",
       "    <tr>\n",
       "      <th>0</th>\n",
       "      <td>2302137</td>\n",
       "      <td>30TVM_2_5</td>\n",
       "      <td>POLYGON ((-3.96458 41.90790, -3.96594 41.99795...</td>\n",
       "    </tr>\n",
       "    <tr>\n",
       "      <th>1</th>\n",
       "      <td>2301391</td>\n",
       "      <td>30TUN_7_8</td>\n",
       "      <td>POLYGON ((-4.58294 42.53146, -4.58522 42.62148...</td>\n",
       "    </tr>\n",
       "    <tr>\n",
       "      <th>2</th>\n",
       "      <td>2301392</td>\n",
       "      <td>30TUN_7_9</td>\n",
       "      <td>POLYGON ((-4.58067 42.44143, -4.58294 42.53146...</td>\n",
       "    </tr>\n",
       "    <tr>\n",
       "      <th>3</th>\n",
       "      <td>2301398</td>\n",
       "      <td>30TUN_8_5</td>\n",
       "      <td>POLYGON ((-4.46755 42.80315, -4.46969 42.89318...</td>\n",
       "    </tr>\n",
       "    <tr>\n",
       "      <th>4</th>\n",
       "      <td>2301399</td>\n",
       "      <td>30TUN_8_6</td>\n",
       "      <td>POLYGON ((-4.46543 42.71313, -4.46755 42.80315...</td>\n",
       "    </tr>\n",
       "  </tbody>\n",
       "</table>\n",
       "</div>"
      ],
      "text/plain": [
       "        id       name                                           geometry\n",
       "0  2302137  30TVM_2_5  POLYGON ((-3.96458 41.90790, -3.96594 41.99795...\n",
       "1  2301391  30TUN_7_8  POLYGON ((-4.58294 42.53146, -4.58522 42.62148...\n",
       "2  2301392  30TUN_7_9  POLYGON ((-4.58067 42.44143, -4.58294 42.53146...\n",
       "3  2301398  30TUN_8_5  POLYGON ((-4.46755 42.80315, -4.46969 42.89318...\n",
       "4  2301399  30TUN_8_6  POLYGON ((-4.46543 42.71313, -4.46755 42.80315..."
      ]
     },
     "metadata": {},
     "execution_count": 6
    }
   ],
   "metadata": {}
  },
  {
   "cell_type": "code",
   "execution_count": 7,
   "source": [
    "eopatches_list = grid_definition.name.values"
   ],
   "outputs": [],
   "metadata": {}
  },
  {
   "cell_type": "code",
   "execution_count": 8,
   "source": [
    "len(eopatches_list)"
   ],
   "outputs": [
    {
     "output_type": "execute_result",
     "data": {
      "text/plain": [
       "1083"
      ]
     },
     "metadata": {},
     "execution_count": 8
    }
   ],
   "metadata": {}
  },
  {
   "cell_type": "markdown",
   "source": [
    "### Get workflow"
   ],
   "metadata": {}
  },
  {
   "cell_type": "code",
   "execution_count": 9,
   "source": [
    "workflow = get_post_processing_workflow(post_process_config)"
   ],
   "outputs": [],
   "metadata": {}
  },
  {
   "cell_type": "code",
   "execution_count": 10,
   "source": [
    "exec_args = get_exec_args(workflow=workflow, \n",
    "                          eopatch_list=eopatches_list,\n",
    "                          config=post_process_config)"
   ],
   "outputs": [
    {
     "output_type": "display_data",
     "data": {
      "application/vnd.jupyter.widget-view+json": {
       "model_id": "739817cf367b430cb947a655487c3ff8",
       "version_major": 2,
       "version_minor": 0
      },
      "text/plain": [
       "HBox(children=(FloatProgress(value=0.0, max=1083.0), HTML(value='')))"
      ]
     },
     "metadata": {}
    },
    {
     "output_type": "stream",
     "name": "stdout",
     "text": [
      "\n"
     ]
    }
   ],
   "metadata": {}
  },
  {
   "cell_type": "code",
   "execution_count": 11,
   "source": [
    "len(exec_args)"
   ],
   "outputs": [
    {
     "output_type": "execute_result",
     "data": {
      "text/plain": [
       "1083"
      ]
     },
     "metadata": {},
     "execution_count": 11
    }
   ],
   "metadata": {}
  },
  {
   "cell_type": "markdown",
   "source": [
    "Multi-process using `EOExecutor`"
   ],
   "metadata": {}
  },
  {
   "cell_type": "code",
   "execution_count": 15,
   "source": [
    "executor = EOExecutor(workflow, exec_args, save_logs=True)"
   ],
   "outputs": [],
   "metadata": {
    "scrolled": false
   }
  },
  {
   "cell_type": "code",
   "execution_count": 16,
   "source": [
    "executor.run(workers=20)"
   ],
   "outputs": [
    {
     "output_type": "display_data",
     "data": {
      "application/vnd.jupyter.widget-view+json": {
       "model_id": "e060fd82ec924603a3b5538cb4acb8d0",
       "version_major": 2,
       "version_minor": 0
      },
      "text/plain": [
       "HBox(children=(FloatProgress(value=0.0, max=403.0), HTML(value='')))"
      ]
     },
     "metadata": {}
    },
    {
     "output_type": "stream",
     "name": "stdout",
     "text": [
      "\n"
     ]
    }
   ],
   "metadata": {}
  },
  {
   "cell_type": "code",
   "execution_count": 17,
   "source": [
    "executor.make_report()"
   ],
   "outputs": [],
   "metadata": {}
  }
 ],
 "metadata": {
  "kernelspec": {
   "display_name": "Python 3",
   "language": "python",
   "name": "python3"
  },
  "language_info": {
   "codemirror_mode": {
    "name": "ipython",
    "version": 3
   },
   "file_extension": ".py",
   "mimetype": "text/x-python",
   "name": "python",
   "nbconvert_exporter": "python",
   "pygments_lexer": "ipython3",
   "version": "3.6.9"
  }
 },
 "nbformat": 4,
 "nbformat_minor": 2
}