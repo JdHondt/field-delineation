{
 "cells": [
  {
   "cell_type": "markdown",
   "metadata": {},
   "source": [
    "# Sample patchlets from downloaded eopatches\n",
    "\n",
    "This notebook takes an eopatch as input and samples smaller patchlets of givven size (e.g. 256x256) to be used for training/validation/test.\n",
    "\n",
    "Modify the parameters of the `SamplePatchlets` task to influence the behaviour of the sampled aptchlets distribution.\n"
   ]
  },
  {
   "cell_type": "code",
   "execution_count": null,
   "metadata": {},
   "outputs": [],
   "source": [
    "from abc import abstractmethod\n",
    "import os\n",
    "import boto3\n",
    "import fs\n",
    "from fs_s3fs import S3FS\n",
    "\n",
    "from datetime import datetime, timedelta\n",
    "import dateutil\n",
    "import rasterio\n",
    "import pandas as pd\n",
    "import geopandas as gpd\n",
    "import numpy as np\n",
    "import matplotlib.pyplot as plt\n",
    "from tqdm import tqdm_notebook as tqdm\n",
    "from concurrent.futures import ProcessPoolExecutor\n",
    "\n",
    "from sentinelhub import CRS, BBox\n",
    "from s2cloudless import S2PixelCloudDetector\n",
    "from eolearn.core import FeatureType, EOPatch, EOTask, EOWorkflow, SaveTask, OverwritePermission, EOExecutor, FeatureTypeSet"
   ]
  },
  {
   "cell_type": "code",
   "execution_count": null,
   "metadata": {},
   "outputs": [],
   "source": [
    "def multiprocess(process_fun: Callable, arguments: List[Any], max_workers: int = 4) -> List[Any]:\n",
    "    \"\"\"\n",
    "    Executes multiprocessing with tqdm.\n",
    "    Parameters\n",
    "    ----------\n",
    "    process_fun: A function that processes a single item.\n",
    "    arguments: Arguments with which te function is called.\n",
    "    max_workers: Max workers for the process pool executor.\n",
    "\n",
    "    Returns A list of results.\n",
    "    -------\n",
    "\n",
    "    \"\"\"\n",
    "    with ProcessPoolExecutor(max_workers=max_workers) as executor:\n",
    "        results = list(tqdm(executor.map(process_fun, arguments), total=len(arguments)))\n",
    "    return results"
   ]
  },
  {
   "cell_type": "markdown",
   "metadata": {},
   "source": [
    "### Define filesystem and eopatches location "
   ]
  },
  {
   "cell_type": "code",
   "execution_count": null,
   "metadata": {},
   "outputs": [],
   "source": [
    "filesystem = S3FS(\"bucket-name\", \n",
    "              aws_access_key_id=\"\",\n",
    "              aws_secret_access_key=\"\",\n",
    "              region=\"eu-central-1\") "
   ]
  },
  {
   "cell_type": "code",
   "execution_count": null,
   "metadata": {},
   "outputs": [],
   "source": [
    "EOPATCHES_LOCATION = 'data/Lithuania/eopatches/2019/'"
   ]
  },
  {
   "cell_type": "code",
   "execution_count": null,
   "metadata": {},
   "outputs": [],
   "source": [
    "OUT_PATH = 'data/Lithuania/patchlets/2019'"
   ]
  },
  {
   "cell_type": "code",
   "execution_count": null,
   "metadata": {},
   "outputs": [],
   "source": [
    "EOPATCHES_PATHS = [os.path.join(EOPATCHES_LOCATION, eop_name) for eop_name in filesystem.listdir(EOPATCHES_LOCATION)]"
   ]
  },
  {
   "cell_type": "markdown",
   "metadata": {},
   "source": [
    "### Define the sampling EOTask.\n",
    "\n",
    "Some things are quite hardcoded, so use with caution anywhere else than here. "
   ]
  },
  {
   "cell_type": "code",
   "execution_count": null,
   "metadata": {},
   "outputs": [],
   "source": [
    "class SamplePatchlets(EOTask):\n",
    "    \"\"\"\n",
    "    The task samples patchlets of a certain size in a given timeless feature different from no valid data value with\n",
    "    a certain percentage of valid pixels.\n",
    "    \"\"\"\n",
    "\n",
    "    def __init__(self, feature, buffer, patch_size, num_samples, max_retries, fraction_valid=0.2, no_data_value=0,\n",
    "                 sample_features=..., filter_cloudy=True):\n",
    "        \"\"\" Task to sample pixels from a reference timeless raster mask, excluding a no valid data value\n",
    "\n",
    "        :param feature:  Reference feature used to select points to be sampled\n",
    "        :param fraction: Fraction of valid points to be sampled\n",
    "        :param no_data_value: Value of non-valid points to be ignored\n",
    "        \"\"\"\n",
    "        self.feature_type, self.feature_name, self.new_feature_name = next(\n",
    "            self._parse_features(feature, new_names=True,\n",
    "                                 default_feature_type=FeatureType.MASK_TIMELESS,\n",
    "                                 allowed_feature_types={FeatureType.MASK_TIMELESS},\n",
    "                                 rename_function='{}_SAMPLED'.format)())\n",
    "        self.max_retries = max_retries\n",
    "        self.fraction = fraction_valid\n",
    "        self.no_data_value = no_data_value\n",
    "        self.sample_features = self._parse_features(sample_features)\n",
    "        self.num_samples = num_samples\n",
    "        self.patch_size = patch_size\n",
    "        self.buffer = buffer\n",
    "        self.s2_cd = S2PixelCloudDetector(average_over=24)\n",
    "    \n",
    "        \n",
    "    def _get_clear_indices(self, clp, vld):\n",
    "        idxs = [] \n",
    "        for i, (probas, vld_mask) in enumerate(zip(clp, vld)):\n",
    "            if self.s2_cd.get_mask_from_prob(probas/255.0).sum()/np.prod(probas.shape[1:3]) < 0.05:\n",
    "                if np.sum(~vld_mask.astype(bool)) == 0:               \n",
    "                    idxs.append(i)\n",
    "        return idxs\n",
    "\n",
    "    def execute(self, eopatch, seed=None):\n",
    "        timestamps = np.array(eopatch.timestamp)\n",
    "        mask = eopatch[self.feature_type][self.feature_name].squeeze()\n",
    "        n_rows, n_cols = mask.shape\n",
    "\n",
    "        if mask.ndim != 2:\n",
    "            raise ValueError('Invalid shape of sampling reference map.')\n",
    "\n",
    "        np.random.seed(seed)\n",
    "        eops_out = []\n",
    "\n",
    "        for patchlet_num in range(0, self.num_samples):\n",
    "            ratio = 0.0\n",
    "            retry_count = 0\n",
    "            new_eopatch = EOPatch(timestamp=eopatch.timestamp)\n",
    "            while ratio < self.fraction and retry_count < self.max_retries:\n",
    "                row = np.random.randint(self.buffer, n_rows-self.patch_size-self.buffer)\n",
    "                col = np.random.randint(self.buffer, n_cols-self.patch_size-self.buffer)\n",
    "                patchlet = mask[row:row+self.patch_size, col:col+self.patch_size]\n",
    "                ratio = np.sum(patchlet != self.no_data_value) / self.patch_size**2\n",
    "                retry_count += 1\n",
    "\n",
    "            if retry_count == self.max_retries:\n",
    "                print(f'Could not determine an area with good enough ratio of valid sampled pixels for '\n",
    "                               f'patchlet number: {patchlet_num}')\n",
    "                continue\n",
    "            for feature_type, feature_name in self.sample_features(eopatch):\n",
    "                if feature_type in FeatureTypeSet.RASTER_TYPES.intersection(FeatureTypeSet.SPATIAL_TYPES):\n",
    "                    feature_data = eopatch[feature_type][feature_name]\n",
    "                    if feature_type.is_time_dependent():\n",
    "                        sampled_data = feature_data[:, row:row+self.patch_size, col:col+self.patch_size, :]\n",
    "                        clp_patchlet = eopatch.data['CLP'][:, row:row+self.patch_size, col:col+self.patch_size, :]\n",
    "                        valid_patchlet = eopatch.mask['IS_DATA'][:, row:row+self.patch_size, col:col+self.patch_size, :]\n",
    "                        idxs = self._get_clear_indices(clp_patchlet, valid_patchlet)\n",
    "                        sampled_data = sampled_data[idxs]\n",
    "                        new_eopatch.timestamp = list(timestamps[idxs])\n",
    "                        \n",
    "                    else:\n",
    "                        sampled_data = feature_data[row:row+self.patch_size, col:col+self.patch_size, :]\n",
    "\n",
    "                    # here a copy of sampled array is returned and assigned to feature of a shallow copy\n",
    "                    # orig_eopatch[feature_type][feature_name] remains unmodified\n",
    "                    patchlet_loc = np.array([row, col, self.patch_size])\n",
    "                    new_eopatch[feature_type][f'{feature_name}'] = sampled_data\n",
    "                    new_eopatch[FeatureType.SCALAR_TIMELESS][f'PATCHLET_LOC'] = patchlet_loc\n",
    "                    new_eopatch[FeatureType.MASK_TIMELESS][f'EXTENT'] = eopatch.mask_timeless['EXTENT'][row:row+self.patch_size, col:col+self.patch_size]\n",
    "                    new_eopatch[FeatureType.MASK_TIMELESS][f'BOUNDARY'] = eopatch.mask_timeless['BOUNDARY'][row:row+self.patch_size, col:col+self.patch_size]\n",
    "                    new_eopatch[FeatureType.DATA_TIMELESS][f'DISTANCE'] = eopatch.data_timeless['DISTANCE'][row:row+self.patch_size, col:col+self.patch_size]\n",
    "                    eops_out.append(new_eopatch)\n",
    "        return eops_out"
   ]
  },
  {
   "cell_type": "code",
   "execution_count": null,
   "metadata": {},
   "outputs": [],
   "source": [
    "task = SamplePatchlets(feature=(FeatureType.MASK_TIMELESS, 'EXTENT'), buffer=0, patch_size=256, num_samples=10, max_retries=10, fraction_valid=0.4, sample_features=(FeatureType.DATA, 'BANDS'))"
   ]
  },
  {
   "cell_type": "code",
   "execution_count": null,
   "metadata": {},
   "outputs": [],
   "source": [
    "def create_and_save_patchlets(eop_path): \n",
    "    eop_name = os.path.basename(eop_path)\n",
    "    print(f'Processing eop: {eop_name}')\n",
    "    try: \n",
    "        patchlets = task.execute(EOPatch.load(eop_path, filesystem=filesystem, lazy_loading=True))\n",
    "        for i, patchlet in enumerate(patchlets): \n",
    "            patchlet.save(os.path.join(OUT_PATH, f'{eop_name}_{i}'), filesystem=filesystem)\n",
    "    except KeyError as e: \n",
    "        print(f'Key error. Could not find key: {e}')\n",
    "    except ValueError as e: \n",
    "        print(f'Value error. Value does not exist: {e}')\n",
    "        "
   ]
  },
  {
   "cell_type": "code",
   "execution_count": null,
   "metadata": {},
   "outputs": [],
   "source": [
    "# If there is an error, do not process the  same eopatch twice. Hopefully should not be needed. "
   ]
  },
  {
   "cell_type": "code",
   "execution_count": null,
   "metadata": {},
   "outputs": [],
   "source": [
    "processed_eops = set([os.path.join(EOPATCHES_LOCATION, x.split('_')[0]) for x in filesystem.listdir(OUT_PATH)])"
   ]
  },
  {
   "cell_type": "code",
   "execution_count": null,
   "metadata": {},
   "outputs": [],
   "source": [
    "unprocessed_eops = set(EOPATCHES_PATHS).difference(processed_eops) "
   ]
  },
  {
   "cell_type": "code",
   "execution_count": null,
   "metadata": {
    "scrolled": false
   },
   "outputs": [],
   "source": [
    "multiprocess(create_and_save_patchlets, list(unprocessed_eops), max_workers=36)"
   ]
  }
 ],
 "metadata": {
  "kernelspec": {
   "display_name": "Python 3",
   "language": "python",
   "name": "python3"
  },
  "language_info": {
   "codemirror_mode": {
    "name": "ipython",
    "version": 3
   },
   "file_extension": ".py",
   "mimetype": "text/x-python",
   "name": "python",
   "nbconvert_exporter": "python",
   "pygments_lexer": "ipython3",
   "version": "3.6.9"
  }
 },
 "nbformat": 4,
 "nbformat_minor": 2
}
